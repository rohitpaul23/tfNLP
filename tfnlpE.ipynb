{
  "nbformat": 4,
  "nbformat_minor": 0,
  "metadata": {
    "colab": {
      "provenance": [],
      "toc_visible": true
    },
    "kernelspec": {
      "name": "python3",
      "display_name": "Python 3"
    },
    "language_info": {
      "name": "python"
    }
  },
  "cells": [
    {
      "cell_type": "markdown",
      "source": [
        "#Predicting the next word as per Shakespeare Sonnets Dataset\n",
        "\n",
        "Create a model that will predict the next word in a text sequence\n",
        "\n",
        "Will implement the model and train it using a corpus of Shakespeare's sonnets.\n"
      ],
      "metadata": {
        "id": "faSHb9rG_Pcm"
      }
    },
    {
      "cell_type": "code",
      "execution_count": null,
      "metadata": {
        "id": "pbntS9Lc-6iW"
      },
      "outputs": [],
      "source": [
        "import numpy as np \n",
        "import matplotlib.pyplot as plt\n",
        "from tensorflow.keras.models import Sequential\n",
        "from tensorflow.keras.utils import to_categorical \n",
        "from tensorflow.keras.preprocessing.text import Tokenizer\n",
        "from tensorflow.keras.preprocessing.sequence import pad_sequences\n",
        "from tensorflow.keras.layers import Embedding, LSTM, Dense, Bidirectional"
      ]
    },
    {
      "cell_type": "markdown",
      "source": [
        "Here we will be using the Shakespeare Sonnets Dataset, which contains more than 2000 lines of text extracted from Shakespeare's sonnets.\n"
      ],
      "metadata": {
        "id": "oxKVXUzV_wNX"
      }
    },
    {
      "cell_type": "code",
      "source": [
        "# sonnets.txt\n",
        "!gdown --id 108jAePKK4R3BVYBbYJZ32JWUwxeMg20K"
      ],
      "metadata": {
        "colab": {
          "base_uri": "https://localhost:8080/"
        },
        "id": "IZ6RQ256_10-",
        "outputId": "25005515-da38-4a39-e1f1-2155c8651676"
      },
      "execution_count": null,
      "outputs": [
        {
          "output_type": "stream",
          "name": "stdout",
          "text": [
            "/usr/local/lib/python3.8/dist-packages/gdown/cli.py:127: FutureWarning: Option `--id` was deprecated in version 4.3.1 and will be removed in 5.0. You don't need to pass it anymore to use a file ID.\n",
            "  warnings.warn(\n",
            "Downloading...\n",
            "From: https://drive.google.com/uc?id=108jAePKK4R3BVYBbYJZ32JWUwxeMg20K\n",
            "To: /content/sonnets.txt\n",
            "100% 93.6k/93.6k [00:00<00:00, 84.1MB/s]\n"
          ]
        }
      ]
    },
    {
      "cell_type": "code",
      "source": [
        "# Define path for file with sonnets\n",
        "SONNETS_FILE = './sonnets.txt'\n",
        "\n",
        "# Read the data\n",
        "with open('./sonnets.txt') as f:\n",
        "    data = f.read()\n",
        "\n",
        "# Convert to lower case and save as a list\n",
        "corpus = data.lower().split(\"\\n\")\n",
        "\n",
        "print(f\"There are {len(corpus)} lines of sonnets\\n\")\n",
        "print(f\"The first 5 lines look like this:\\n\")\n",
        "for i in range(5):\n",
        "  print(corpus[i])"
      ],
      "metadata": {
        "colab": {
          "base_uri": "https://localhost:8080/"
        },
        "id": "B5Ibpgbw_3B0",
        "outputId": "75d71b4a-3dc6-409d-8df5-6a93175c1cb1"
      },
      "execution_count": null,
      "outputs": [
        {
          "output_type": "stream",
          "name": "stdout",
          "text": [
            "There are 2159 lines of sonnets\n",
            "\n",
            "The first 5 lines look like this:\n",
            "\n",
            "from fairest creatures we desire increase,\n",
            "that thereby beauty's rose might never die,\n",
            "but as the riper should by time decease,\n",
            "his tender heir might bear his memory:\n",
            "but thou, contracted to thine own bright eyes,\n"
          ]
        }
      ]
    },
    {
      "cell_type": "markdown",
      "source": [
        "##Tokenizing the text\n",
        "Fit the Tokenizer to the corpus and save the total number of words.\n"
      ],
      "metadata": {
        "id": "jiW5uUWDAIwn"
      }
    },
    {
      "cell_type": "code",
      "source": [
        "tokenizer = Tokenizer()\n",
        "tokenizer.fit_on_texts(corpus)\n",
        "total_words = len(tokenizer.word_index) + 1\n"
      ],
      "metadata": {
        "id": "mO1NxZJIANGK"
      },
      "execution_count": null,
      "outputs": []
    },
    {
      "cell_type": "markdown",
      "source": [
        "When converting the text into sequences we will use the texts_to_sequences.\n",
        "\n",
        "We need to process this corpus one line at a time.\n",
        "\n",
        "The first example of the corpus is a string and looks like this:\n",
        "\n"
      ],
      "metadata": {
        "id": "OLCJ96enAPqm"
      }
    },
    {
      "cell_type": "code",
      "source": [
        "[corpus[0]]\n"
      ],
      "metadata": {
        "colab": {
          "base_uri": "https://localhost:8080/"
        },
        "id": "0MvZHRkaATby",
        "outputId": "3f52158c-290f-40f1-95ee-09eadf8c0502"
      },
      "execution_count": null,
      "outputs": [
        {
          "output_type": "execute_result",
          "data": {
            "text/plain": [
              "['from fairest creatures we desire increase,']"
            ]
          },
          "metadata": {},
          "execution_count": 7
        }
      ]
    },
    {
      "cell_type": "markdown",
      "source": [
        "If we pass this text directly into the texts_to_sequences method we will get an unexpected result:"
      ],
      "metadata": {
        "id": "YRARh_1PAVXA"
      }
    },
    {
      "cell_type": "code",
      "source": [
        "tokenizer.texts_to_sequences([corpus[0]])[0]"
      ],
      "metadata": {
        "colab": {
          "base_uri": "https://localhost:8080/"
        },
        "id": "8fzdiTsnAXc-",
        "outputId": "7fe1fb1a-3447-4510-fb93-20c366b9b175"
      },
      "execution_count": null,
      "outputs": [
        {
          "output_type": "execute_result",
          "data": {
            "text/plain": [
              "[34, 417, 877, 166, 213, 517]"
            ]
          },
          "metadata": {},
          "execution_count": 9
        }
      ]
    },
    {
      "cell_type": "markdown",
      "source": [
        "##Generating n_grams\n",
        "**n_gram_seqs**: This function receives the fitted tokenizer and the corpus (which is a list of strings) and should return a list containing the n_gram sequences for each line in the corpus:\n",
        "\n"
      ],
      "metadata": {
        "id": "TrMwNC8zB637"
      }
    },
    {
      "cell_type": "code",
      "source": [
        "def n_gram_seqs(corpus, tokenizer):\n",
        "    \"\"\"\n",
        "    Generates a list of n-gram sequences\n",
        "    \n",
        "    Args:\n",
        "        corpus (list of string): lines of texts to generate n-grams for\n",
        "        tokenizer (object): an instance of the Tokenizer class containing the word-index dictionary\n",
        "    \n",
        "    Returns:\n",
        "        input_sequences (list of int): the n-gram sequences for each line in the corpus\n",
        "    \"\"\"\n",
        "    input_sequences = []\n",
        "    corpus_len = len(corpus)\n",
        "\n",
        "    for idx in range(corpus_len):\n",
        "      tokens = tokenizer.texts_to_sequences([corpus[idx]])[0]\n",
        "      tokensLen = len(tokens)\n",
        "    \n",
        "      for i in range(2, tokensLen+1):\n",
        "        input_sequences.append(tokens[:i])\n",
        "\n",
        "    return input_sequences\n"
      ],
      "metadata": {
        "id": "zeju85eLB9iH"
      },
      "execution_count": null,
      "outputs": []
    },
    {
      "cell_type": "code",
      "source": [
        "# Test your function with one example\n",
        "first_example_sequence = n_gram_seqs([corpus[0]], tokenizer)\n",
        "\n",
        "print(\"n_gram sequences for first example look like this:\\n\")\n",
        "first_example_sequence"
      ],
      "metadata": {
        "colab": {
          "base_uri": "https://localhost:8080/"
        },
        "id": "ZNnTD7x4CMEe",
        "outputId": "ad611c2f-31d1-404f-d346-66b3ade262ff"
      },
      "execution_count": null,
      "outputs": [
        {
          "output_type": "stream",
          "name": "stdout",
          "text": [
            "n_gram sequences for first example look like this:\n",
            "\n"
          ]
        },
        {
          "output_type": "execute_result",
          "data": {
            "text/plain": [
              "[[34, 417],\n",
              " [34, 417, 877],\n",
              " [34, 417, 877, 166],\n",
              " [34, 417, 877, 166, 213],\n",
              " [34, 417, 877, 166, 213, 517]]"
            ]
          },
          "metadata": {},
          "execution_count": 20
        }
      ]
    },
    {
      "cell_type": "code",
      "source": [
        "next_3_examples_sequence = n_gram_seqs(corpus[1:4], tokenizer)\n",
        "\n",
        "print(\"n_gram sequences for next 3 examples look like this:\\n\")\n",
        "next_3_examples_sequence"
      ],
      "metadata": {
        "colab": {
          "base_uri": "https://localhost:8080/"
        },
        "id": "-mZWTSabCR3x",
        "outputId": "0f6855ad-16cd-4234-b616-00c333dfc7f1"
      },
      "execution_count": null,
      "outputs": [
        {
          "output_type": "stream",
          "name": "stdout",
          "text": [
            "n_gram sequences for next 3 examples look like this:\n",
            "\n"
          ]
        },
        {
          "output_type": "execute_result",
          "data": {
            "text/plain": [
              "[[8, 878],\n",
              " [8, 878, 134],\n",
              " [8, 878, 134, 351],\n",
              " [8, 878, 134, 351, 102],\n",
              " [8, 878, 134, 351, 102, 156],\n",
              " [8, 878, 134, 351, 102, 156, 199],\n",
              " [16, 22],\n",
              " [16, 22, 2],\n",
              " [16, 22, 2, 879],\n",
              " [16, 22, 2, 879, 61],\n",
              " [16, 22, 2, 879, 61, 30],\n",
              " [16, 22, 2, 879, 61, 30, 48],\n",
              " [16, 22, 2, 879, 61, 30, 48, 634],\n",
              " [25, 311],\n",
              " [25, 311, 635],\n",
              " [25, 311, 635, 102],\n",
              " [25, 311, 635, 102, 200],\n",
              " [25, 311, 635, 102, 200, 25],\n",
              " [25, 311, 635, 102, 200, 25, 278]]"
            ]
          },
          "metadata": {},
          "execution_count": 21
        }
      ]
    },
    {
      "cell_type": "code",
      "source": [
        "# Apply the n_gram_seqs transformation to the whole corpus\n",
        "input_sequences = n_gram_seqs(corpus, tokenizer)\n",
        "\n",
        "# Save max length \n",
        "max_sequence_len = max([len(x) for x in input_sequences])\n",
        "\n",
        "print(f\"n_grams of input_sequences have length: {len(input_sequences)}\")\n",
        "print(f\"maximum length of sequences is: {max_sequence_len}\")\n"
      ],
      "metadata": {
        "colab": {
          "base_uri": "https://localhost:8080/"
        },
        "id": "UVy8I-QsCV-6",
        "outputId": "756f602c-3441-46a0-d994-726bfe7135b8"
      },
      "execution_count": null,
      "outputs": [
        {
          "output_type": "stream",
          "name": "stdout",
          "text": [
            "n_grams of input_sequences have length: 15462\n",
            "maximum length of sequences is: 11\n"
          ]
        }
      ]
    },
    {
      "cell_type": "markdown",
      "source": [
        "##Add padding to the sequences\n",
        "**pad_seqs**: Will pad any given sequences to the desired maximum length. "
      ],
      "metadata": {
        "id": "QB_zAm1eCNCn"
      }
    },
    {
      "cell_type": "code",
      "source": [
        "def pad_seqs(input_sequences, maxlen):\n",
        "    \"\"\"\n",
        "    Pads tokenized sequences to the same length\n",
        "    \n",
        "    Args:\n",
        "        input_sequences (list of int): tokenized sequences to pad\n",
        "        maxlen (int): maximum length of the token sequences\n",
        "    \n",
        "    Returns:\n",
        "        padded_sequences (array of int): tokenized sequences padded to the same length\n",
        "    \"\"\"\n",
        "    \n",
        "    padded_sequences = pad_sequences(input_sequences, maxlen=maxlen)\n",
        "    \n",
        "    return padded_sequences\n",
        "    "
      ],
      "metadata": {
        "id": "MTFAAW-ECwM-"
      },
      "execution_count": null,
      "outputs": []
    },
    {
      "cell_type": "code",
      "source": [
        "# Test our function with the n_grams_seq of the first example\n",
        "first_padded_seq = pad_seqs(first_example_sequence, max([len(x) for x in first_example_sequence]))\n",
        "first_padded_seq"
      ],
      "metadata": {
        "colab": {
          "base_uri": "https://localhost:8080/"
        },
        "id": "qNoK1iD4C7ux",
        "outputId": "7c23ea4a-91e2-40e2-9c72-aee9c2987e4b"
      },
      "execution_count": null,
      "outputs": [
        {
          "output_type": "execute_result",
          "data": {
            "text/plain": [
              "array([[  0,   0,   0,   0,  34, 417],\n",
              "       [  0,   0,   0,  34, 417, 877],\n",
              "       [  0,   0,  34, 417, 877, 166],\n",
              "       [  0,  34, 417, 877, 166, 213],\n",
              "       [ 34, 417, 877, 166, 213, 517]], dtype=int32)"
            ]
          },
          "metadata": {},
          "execution_count": 24
        }
      ]
    },
    {
      "cell_type": "code",
      "source": [
        "# Test our function with the n_grams_seq of the next 3 examples\n",
        "next_3_padded_seq = pad_seqs(next_3_examples_sequence, max([len(s) for s in next_3_examples_sequence]))\n",
        "next_3_padded_seq"
      ],
      "metadata": {
        "colab": {
          "base_uri": "https://localhost:8080/"
        },
        "id": "f-PxfsW2C_S4",
        "outputId": "3cac540f-be57-46f7-e00a-410a3f6a7d37"
      },
      "execution_count": null,
      "outputs": [
        {
          "output_type": "execute_result",
          "data": {
            "text/plain": [
              "array([[  0,   0,   0,   0,   0,   0,   8, 878],\n",
              "       [  0,   0,   0,   0,   0,   8, 878, 134],\n",
              "       [  0,   0,   0,   0,   8, 878, 134, 351],\n",
              "       [  0,   0,   0,   8, 878, 134, 351, 102],\n",
              "       [  0,   0,   8, 878, 134, 351, 102, 156],\n",
              "       [  0,   8, 878, 134, 351, 102, 156, 199],\n",
              "       [  0,   0,   0,   0,   0,   0,  16,  22],\n",
              "       [  0,   0,   0,   0,   0,  16,  22,   2],\n",
              "       [  0,   0,   0,   0,  16,  22,   2, 879],\n",
              "       [  0,   0,   0,  16,  22,   2, 879,  61],\n",
              "       [  0,   0,  16,  22,   2, 879,  61,  30],\n",
              "       [  0,  16,  22,   2, 879,  61,  30,  48],\n",
              "       [ 16,  22,   2, 879,  61,  30,  48, 634],\n",
              "       [  0,   0,   0,   0,   0,   0,  25, 311],\n",
              "       [  0,   0,   0,   0,   0,  25, 311, 635],\n",
              "       [  0,   0,   0,   0,  25, 311, 635, 102],\n",
              "       [  0,   0,   0,  25, 311, 635, 102, 200],\n",
              "       [  0,   0,  25, 311, 635, 102, 200,  25],\n",
              "       [  0,  25, 311, 635, 102, 200,  25, 278]], dtype=int32)"
            ]
          },
          "metadata": {},
          "execution_count": 25
        }
      ]
    },
    {
      "cell_type": "code",
      "source": [
        "# Pad the whole corpus\n",
        "input_sequences = pad_seqs(input_sequences, max_sequence_len)\n",
        "\n",
        "print(f\"padded corpus has shape: {input_sequences.shape}\")"
      ],
      "metadata": {
        "colab": {
          "base_uri": "https://localhost:8080/"
        },
        "id": "Gn2CroqjDDs2",
        "outputId": "91e906a3-a8b1-478e-859d-dc063131460c"
      },
      "execution_count": null,
      "outputs": [
        {
          "output_type": "stream",
          "name": "stdout",
          "text": [
            "padded corpus has shape: (15462, 11)\n"
          ]
        }
      ]
    },
    {
      "cell_type": "markdown",
      "source": [
        "##Split the data into features and labels\n",
        "\n",
        "Before feeding the data into the neural network we should split it into features and labels. In this case the features will be the padded n_gram sequences with the last word removed from them and the labels will be the removed word.\n",
        "\n",
        "**features_and_labels**: This function expects the padded n_gram sequences as input and should return a tuple containing the features and the one hot encoded labels.\n",
        "\n",
        "Notice that the function also receives the total of words in the corpus, this parameter will be very important when one hot enconding the labels since every word in the corpus will be a label at least once. If you need a refresh of how the to_categorical function works take a look at the docs"
      ],
      "metadata": {
        "id": "f7_MhPZWDSQq"
      }
    },
    {
      "cell_type": "code",
      "source": [
        "len(input_sequences[:,-1]), total_words"
      ],
      "metadata": {
        "colab": {
          "base_uri": "https://localhost:8080/"
        },
        "id": "2xtmjIscPmNR",
        "outputId": "a8170ee0-fefa-4b55-8642-cd04d8970246"
      },
      "execution_count": null,
      "outputs": [
        {
          "output_type": "execute_result",
          "data": {
            "text/plain": [
              "(15462, 3211)"
            ]
          },
          "metadata": {},
          "execution_count": 37
        }
      ]
    },
    {
      "cell_type": "code",
      "source": [
        "def features_and_labels(input_sequences, total_words):\n",
        "    \"\"\"\n",
        "    Generates features and labels from n-grams\n",
        "    \n",
        "    Args:\n",
        "        input_sequences (list of int): sequences to split features and labels from\n",
        "        total_words (int): vocabulary size\n",
        "    \n",
        "    Returns:\n",
        "        features, one_hot_labels (array of int, array of int): arrays of features and one-hot encoded labels\n",
        "    \"\"\"\n",
        "\n",
        "    features = input_sequences[:,:-1]\n",
        "    labels = input_sequences[:,-1]\n",
        "    one_hot_labels = to_categorical(labels, num_classes=total_words)\n",
        "    \n",
        "    return features, one_hot_labels\n"
      ],
      "metadata": {
        "id": "bRp398YsDX2_"
      },
      "execution_count": null,
      "outputs": []
    },
    {
      "cell_type": "code",
      "source": [
        "# Test our function with the padded n_grams_seq of the first example\n",
        "first_features, first_labels = features_and_labels(first_padded_seq, total_words)\n",
        "\n",
        "print(f\"labels have shape: {first_labels.shape}\")\n",
        "print(\"\\nfeatures look like this:\\n\")\n",
        "first_features\n"
      ],
      "metadata": {
        "colab": {
          "base_uri": "https://localhost:8080/"
        },
        "id": "8IWjEpqZDZcH",
        "outputId": "e947791e-1674-4877-b565-0384113d18ba"
      },
      "execution_count": null,
      "outputs": [
        {
          "output_type": "stream",
          "name": "stdout",
          "text": [
            "labels have shape: (5, 3211)\n",
            "\n",
            "features look like this:\n",
            "\n"
          ]
        },
        {
          "output_type": "execute_result",
          "data": {
            "text/plain": [
              "array([[  0,   0,   0,   0,  34],\n",
              "       [  0,   0,   0,  34, 417],\n",
              "       [  0,   0,  34, 417, 877],\n",
              "       [  0,  34, 417, 877, 166],\n",
              "       [ 34, 417, 877, 166, 213]], dtype=int32)"
            ]
          },
          "metadata": {},
          "execution_count": 45
        }
      ]
    },
    {
      "cell_type": "code",
      "source": [
        "# Split the whole corpus\n",
        "features, labels = features_and_labels(input_sequences, total_words)\n",
        "\n",
        "print(f\"features have shape: {features.shape}\")\n",
        "print(f\"labels have shape: {labels.shape}\")"
      ],
      "metadata": {
        "colab": {
          "base_uri": "https://localhost:8080/"
        },
        "id": "X5I3mBapEQ19",
        "outputId": "2db12e2c-8401-4b43-f958-9c408b2544b2"
      },
      "execution_count": null,
      "outputs": [
        {
          "output_type": "stream",
          "name": "stdout",
          "text": [
            "features have shape: (15462, 10)\n",
            "labels have shape: (15462, 3211)\n"
          ]
        }
      ]
    },
    {
      "cell_type": "markdown",
      "source": [
        "##Create the model\n",
        "Now we define a model architecture capable of achieving an accuracy of at least 80%.\n",
        "\n",
        "Some hints to help you in this task:\n",
        "\n",
        "* An appropriate output_dim for the first layer (Embedding) is 100, this is already provided for you.\n",
        "* A Bidirectional LSTM is helpful for this particular problem.\n",
        "* The last layer should have the same number of units as the total number of words in the corpus and a softmax activation function.\n",
        "\n",
        "This problem can be solved with only two layers (excluding the Embedding) so try out small architectures first.\n"
      ],
      "metadata": {
        "id": "35vb8YPyEc0J"
      }
    },
    {
      "cell_type": "code",
      "source": [
        "from tensorflow.keras.optimizers import Adam"
      ],
      "metadata": {
        "id": "Rc725gaCSJbb"
      },
      "execution_count": null,
      "outputs": []
    },
    {
      "cell_type": "code",
      "source": [
        "\n",
        "def create_model(total_words, max_sequence_len):\n",
        "    \"\"\"\n",
        "    Creates a text generator model\n",
        "    \n",
        "    Args:\n",
        "        total_words (int): size of the vocabulary for the Embedding layer input\n",
        "        max_sequence_len (int): length of the input sequences\n",
        "    \n",
        "    Returns:\n",
        "        model (tf.keras Model): the text generator model\n",
        "    \"\"\"\n",
        "    model = Sequential()\n",
        "\n",
        "    model.add(Embedding(total_words, 100, input_length=max_sequence_len-1))\n",
        "    model.add(Bidirectional(LSTM(150)))\n",
        "    model.add(Dense(total_words, activation='softmax'))\n",
        "\n",
        "\n",
        "    # Compile the model\n",
        "    model.compile(loss='categorical_crossentropy',\n",
        "                  optimizer=Adam(learning_rate=0.01),\n",
        "                  metrics=['accuracy'])\n",
        "\n",
        "    return model\n"
      ],
      "metadata": {
        "id": "YiRn3A-IEhY7"
      },
      "execution_count": null,
      "outputs": []
    },
    {
      "cell_type": "code",
      "source": [
        "# Get the untrained model\n",
        "model = create_model(total_words, max_sequence_len)\n",
        "\n",
        "# Train the model\n",
        "history = model.fit(features, labels, epochs=50, verbose=1)"
      ],
      "metadata": {
        "colab": {
          "base_uri": "https://localhost:8080/"
        },
        "id": "tE05bU__El6M",
        "outputId": "37b5b762-df9b-419f-91dd-52d80370282c"
      },
      "execution_count": null,
      "outputs": [
        {
          "output_type": "stream",
          "name": "stdout",
          "text": [
            "Epoch 1/50\n",
            "484/484 [==============================] - 26s 47ms/step - loss: 6.7918 - accuracy: 0.0329\n",
            "Epoch 2/50\n",
            "484/484 [==============================] - 22s 46ms/step - loss: 6.0894 - accuracy: 0.0578\n",
            "Epoch 3/50\n",
            "484/484 [==============================] - 23s 47ms/step - loss: 5.3858 - accuracy: 0.0834\n",
            "Epoch 4/50\n",
            "484/484 [==============================] - 23s 48ms/step - loss: 4.5952 - accuracy: 0.1335\n",
            "Epoch 5/50\n",
            "484/484 [==============================] - 23s 48ms/step - loss: 3.7534 - accuracy: 0.2293\n",
            "Epoch 6/50\n",
            "484/484 [==============================] - 24s 49ms/step - loss: 3.0368 - accuracy: 0.3344\n",
            "Epoch 7/50\n",
            "484/484 [==============================] - 24s 49ms/step - loss: 2.4899 - accuracy: 0.4373\n",
            "Epoch 8/50\n",
            "484/484 [==============================] - 23s 48ms/step - loss: 2.0806 - accuracy: 0.5194\n",
            "Epoch 9/50\n",
            "484/484 [==============================] - 23s 48ms/step - loss: 1.7627 - accuracy: 0.5809\n",
            "Epoch 10/50\n",
            "484/484 [==============================] - 24s 50ms/step - loss: 1.5803 - accuracy: 0.6175\n",
            "Epoch 11/50\n",
            "484/484 [==============================] - 23s 48ms/step - loss: 1.4575 - accuracy: 0.6466\n",
            "Epoch 12/50\n",
            "484/484 [==============================] - 24s 49ms/step - loss: 1.3567 - accuracy: 0.6647\n",
            "Epoch 13/50\n",
            "484/484 [==============================] - 23s 48ms/step - loss: 1.3793 - accuracy: 0.6533\n",
            "Epoch 14/50\n",
            "484/484 [==============================] - 23s 48ms/step - loss: 1.3351 - accuracy: 0.6641\n",
            "Epoch 15/50\n",
            "484/484 [==============================] - 23s 48ms/step - loss: 1.3029 - accuracy: 0.6699\n",
            "Epoch 16/50\n",
            "484/484 [==============================] - 24s 49ms/step - loss: 1.2752 - accuracy: 0.6777\n",
            "Epoch 17/50\n",
            "484/484 [==============================] - 23s 47ms/step - loss: 1.1822 - accuracy: 0.6949\n",
            "Epoch 18/50\n",
            "484/484 [==============================] - 24s 49ms/step - loss: 1.1146 - accuracy: 0.7133\n",
            "Epoch 19/50\n",
            "484/484 [==============================] - 23s 48ms/step - loss: 1.1125 - accuracy: 0.7160\n",
            "Epoch 20/50\n",
            "484/484 [==============================] - 24s 50ms/step - loss: 1.1200 - accuracy: 0.7108\n",
            "Epoch 21/50\n",
            "484/484 [==============================] - 23s 48ms/step - loss: 1.1620 - accuracy: 0.7009\n",
            "Epoch 22/50\n",
            "484/484 [==============================] - 23s 48ms/step - loss: 1.1410 - accuracy: 0.7035\n",
            "Epoch 23/50\n",
            "484/484 [==============================] - 23s 48ms/step - loss: 1.0811 - accuracy: 0.7206\n",
            "Epoch 24/50\n",
            "484/484 [==============================] - 23s 48ms/step - loss: 1.0711 - accuracy: 0.7232\n",
            "Epoch 25/50\n",
            "484/484 [==============================] - 24s 49ms/step - loss: 1.1032 - accuracy: 0.7139\n",
            "Epoch 26/50\n",
            "484/484 [==============================] - 23s 48ms/step - loss: 1.0831 - accuracy: 0.7216\n",
            "Epoch 27/50\n",
            "484/484 [==============================] - 23s 47ms/step - loss: 1.0847 - accuracy: 0.7178\n",
            "Epoch 28/50\n",
            "484/484 [==============================] - 23s 48ms/step - loss: 1.1120 - accuracy: 0.7109\n",
            "Epoch 29/50\n",
            "484/484 [==============================] - 23s 48ms/step - loss: 1.1039 - accuracy: 0.7125\n",
            "Epoch 30/50\n",
            "484/484 [==============================] - 23s 48ms/step - loss: 1.0712 - accuracy: 0.7191\n",
            "Epoch 31/50\n",
            "484/484 [==============================] - 24s 49ms/step - loss: 1.0800 - accuracy: 0.7183\n",
            "Epoch 32/50\n",
            "484/484 [==============================] - 23s 48ms/step - loss: 1.0753 - accuracy: 0.7158\n",
            "Epoch 33/50\n",
            "484/484 [==============================] - 24s 49ms/step - loss: 1.0829 - accuracy: 0.7181\n",
            "Epoch 34/50\n",
            "484/484 [==============================] - 24s 49ms/step - loss: 1.0734 - accuracy: 0.7187\n",
            "Epoch 35/50\n",
            "484/484 [==============================] - 24s 49ms/step - loss: 1.0775 - accuracy: 0.7179\n",
            "Epoch 36/50\n",
            "484/484 [==============================] - 23s 48ms/step - loss: 1.0603 - accuracy: 0.7206\n",
            "Epoch 37/50\n",
            "484/484 [==============================] - 23s 48ms/step - loss: 1.0824 - accuracy: 0.7153\n",
            "Epoch 38/50\n",
            "484/484 [==============================] - 23s 47ms/step - loss: 1.0910 - accuracy: 0.7148\n",
            "Epoch 39/50\n",
            "484/484 [==============================] - 23s 48ms/step - loss: 1.0780 - accuracy: 0.7176\n",
            "Epoch 40/50\n",
            "484/484 [==============================] - 23s 49ms/step - loss: 1.0429 - accuracy: 0.7227\n",
            "Epoch 41/50\n",
            "484/484 [==============================] - 23s 48ms/step - loss: 1.0554 - accuracy: 0.7225\n",
            "Epoch 42/50\n",
            "484/484 [==============================] - 23s 48ms/step - loss: 1.0382 - accuracy: 0.7295\n",
            "Epoch 43/50\n",
            "484/484 [==============================] - 23s 47ms/step - loss: 1.0486 - accuracy: 0.7236\n",
            "Epoch 44/50\n",
            "484/484 [==============================] - 23s 47ms/step - loss: 1.0375 - accuracy: 0.7269\n",
            "Epoch 45/50\n",
            "484/484 [==============================] - 23s 48ms/step - loss: 1.0472 - accuracy: 0.7235\n",
            "Epoch 46/50\n",
            "484/484 [==============================] - 23s 47ms/step - loss: 1.0188 - accuracy: 0.7318\n",
            "Epoch 47/50\n",
            "484/484 [==============================] - 24s 49ms/step - loss: 1.0309 - accuracy: 0.7268\n",
            "Epoch 48/50\n",
            "484/484 [==============================] - 23s 48ms/step - loss: 1.0168 - accuracy: 0.7319\n",
            "Epoch 49/50\n",
            "484/484 [==============================] - 23s 48ms/step - loss: 1.0308 - accuracy: 0.7295\n",
            "Epoch 50/50\n",
            "484/484 [==============================] - 23s 48ms/step - loss: 1.0533 - accuracy: 0.7236\n"
          ]
        }
      ]
    },
    {
      "cell_type": "code",
      "source": [
        "# Take a look at the training curves of your model\n",
        "\n",
        "acc = history.history['accuracy']\n",
        "loss = history.history['loss']\n",
        "\n",
        "epochs = range(len(acc))\n",
        "\n",
        "plt.plot(epochs, acc, 'b', label='Training accuracy')\n",
        "plt.title('Training accuracy')\n",
        "\n",
        "plt.figure()\n",
        "\n",
        "plt.plot(epochs, loss, 'b', label='Training Loss')\n",
        "plt.title('Training loss')\n",
        "plt.legend()\n",
        "\n",
        "plt.show()"
      ],
      "metadata": {
        "colab": {
          "base_uri": "https://localhost:8080/",
          "height": 545
        },
        "id": "caqdfJU_EryJ",
        "outputId": "ed763aa9-c05a-4055-eb6a-7efb67cb2b23"
      },
      "execution_count": null,
      "outputs": [
        {
          "output_type": "display_data",
          "data": {
            "text/plain": [
              "<Figure size 432x288 with 1 Axes>"
            ],
            "image/png": "[encoded data removed]"
          },
          "metadata": {
            "needs_background": "light"
          }
        },
        {
          "output_type": "display_data",
          "data": {
            "text/plain": [
              "<Figure size 432x288 with 1 Axes>"
            ],
            "image/png": "[encoded data removed]"
          },
          "metadata": {
            "needs_background": "light"
          }
        }
      ]
    },
    {
      "cell_type": "code",
      "source": [
        "def download_history():\n",
        "  import pickle\n",
        "  from google.colab import files\n",
        "\n",
        "  with open('history.pkl', 'wb') as f:\n",
        "    pickle.dump(history.history, f)\n",
        "\n",
        "  files.download('history.pkl')\n",
        "\n",
        "download_history()"
      ],
      "metadata": {
        "id": "MOIhPZgFE6EK"
      },
      "execution_count": null,
      "outputs": []
    },
    {
      "cell_type": "markdown",
      "source": [
        "##See the model in action\n",
        "See our model generating text.\n",
        "\n",
        "Run the cell below to generate the next 100 words of a seed text.\n"
      ],
      "metadata": {
        "id": "gs4iwiuAEw2K"
      }
    },
    {
      "cell_type": "code",
      "source": [
        "seed_text = \"Help me Obi Wan Kenobi, you're my only hope\"\n",
        "next_words = 100\n",
        "  \n",
        "for _ in range(next_words):\n",
        "  # Convert the text into sequences\n",
        "  token_list = tokenizer.texts_to_sequences([seed_text])[0]\n",
        "  # Pad the sequences\n",
        "  token_list = pad_sequences([token_list], maxlen=max_sequence_len-1, padding='pre')\n",
        "  # Get the probabilities of predicting a word\n",
        "  predicted = model.predict(token_list, verbose=0)\n",
        "   # Pick a random number from [1,2,3]\n",
        "  choice = np.random.choice([1,2,3])\n",
        "\n",
        "  # Sort the probabilities in ascending order \n",
        "  # and get the random choice from the end of the array\n",
        "  predicted = np.argsort(predicted)[0][-choice]\n",
        "\n",
        "  # Ignore if index is 0 because that is just the padding.\n",
        "  if predicted != 0:\n",
        "    # Look up the word associated with the index. \n",
        "    output_word = tokenizer.index_word[predicted]\n",
        "\n",
        "    seed_text += \" \" + output_word"
      ],
      "metadata": {
        "id": "FUuF54wyY6_V"
      },
      "execution_count": null,
      "outputs": []
    },
    {
      "cell_type": "code",
      "source": [
        "# Print the result\t\n",
        "print(seed_text)"
      ],
      "metadata": {
        "colab": {
          "base_uri": "https://localhost:8080/"
        },
        "id": "ytkuazDTawDM",
        "outputId": "bae77dae-080a-49f4-d864-d7c5dd2fb69c"
      },
      "execution_count": null,
      "outputs": [
        {
          "output_type": "stream",
          "name": "stdout",
          "text": [
            "Help me Obi Wan Kenobi, you're my only hope than that worth is growth 'no ' ' ' so ' place so ' sins 'will' will loathsome lie 'will' ' number me me still so ' ' ' thou tell true gain ' ' thee me ' untutor'd waste ' even ' ' well thee one ' add thee ' due live we before ' ' due in thee me thou ' ending hideous 'will' love latch reproving 'will' more give me welcome both me now thence me you me me ' ' so bold 'will heat still ' time one me ' untutor'd me me hence what's are\n"
          ]
        }
      ]
    }
  ]
}