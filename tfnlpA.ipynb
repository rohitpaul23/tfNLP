{
  "nbformat": 4,
  "nbformat_minor": 0,
  "metadata": {
    "colab": {
      "provenance": [],
      "collapsed_sections": [
        "f_Uk-CAh6hNd",
        "d8FXPty-8bFA"
      ],
      "toc_visible": true
    },
    "kernelspec": {
      "name": "python3",
      "display_name": "Python 3"
    },
    "language_info": {
      "name": "python"
    }
  },
  "cells": [
    {
      "cell_type": "markdown",
      "source": [
        "#Text Classification BBC News Archive\n",
        "\n",
        "Understanding language Processing and constructing a model to classify BBC New Archive for different sections\n",
        "\n",
        "Outline:\n",
        "1. Tokenizer Basics\n",
        "2. Generating Sequence\n",
        "3. Explore BBC News Archive\n",
        "  * Removing Stopwords\n",
        "  * Reading Raw Data\n",
        "  * Training Validation split\n",
        "  * Tokenizing\n",
        "  * Training the model\n",
        "  * Visualizing 3D Vectofrs"
      ],
      "metadata": {
        "id": "jnS8aQgHmILz"
      }
    },
    {
      "cell_type": "markdown",
      "source": [
        "##Tokenizer Basics\n",
        "In most NLP tasks, the initial step in preparing our data is to extract a vocabulary of words from our corpus (i.e. input texts). We will need to define how to represent the texts into numerical representations which can be used to train a neural network. These representations are called tokens and Tensorflow and Keras makes it easy to generate these using its APIs.\n",
        "Generating the vocabulary\n"
      ],
      "metadata": {
        "id": "f_Uk-CAh6hNd"
      }
    },
    {
      "cell_type": "code",
      "execution_count": null,
      "metadata": {
        "colab": {
          "base_uri": "https://localhost:8080/"
        },
        "id": "iJhZWBA76HP7",
        "outputId": "37bf1afe-d766-4444-eddd-e99d5c76aa6c"
      },
      "outputs": [
        {
          "output_type": "stream",
          "name": "stdout",
          "text": [
            "{'i': 1, 'love': 2, 'my': 3, 'dog': 4, 'cat': 5}\n"
          ]
        }
      ],
      "source": [
        "from tensorflow.keras.preprocessing.text import Tokenizer\n",
        "\n",
        "# Define input sentences\n",
        "sentences = [\n",
        "    'i love my dog',\n",
        "    'I, love my cat'\n",
        "    ]\n",
        "\n",
        "# Initialize the Tokenizer class\n",
        "tokenizer = Tokenizer(num_words = 100)\n",
        "\n",
        "# Generate indices for each word in the corpus\n",
        "tokenizer.fit_on_texts(sentences)\n",
        "\n",
        "# Get the indices and print it\n",
        "word_index = tokenizer.word_index\n",
        "print(word_index)"
      ]
    },
    {
      "cell_type": "markdown",
      "source": [
        "The num_words parameter used in the initializer specifies the maximum number of words minus one (based on frequency) to keep when generating sequences. The important thing to note is it does not affect how the word_index dictionary is generated. We can try passing 1 instead of 100 as shown on the next cell and you will arrive at the same word_index.\n",
        "\n",
        "Also notice that by default, all punctuation is ignored and words are converted to lower case. We can override these behaviors by modifying the filters and lower arguments of the Tokenizer class as described here.\n",
        "\n"
      ],
      "metadata": {
        "id": "idF_LzeG8Dbv"
      }
    },
    {
      "cell_type": "code",
      "source": [
        "# Define input sentences\n",
        "sentences = [\n",
        "    'i love my dog',\n",
        "    'I, love my cat',\n",
        "    'You love my dog!'\n",
        "]\n",
        "\n",
        "# Initialize the Tokenizer class\n",
        "tokenizer = Tokenizer(num_words = 1)\n",
        "\n",
        "# Generate indices for each word in the corpus\n",
        "tokenizer.fit_on_texts(sentences)\n",
        "\n",
        "# Get the indices and print it\n",
        "word_index = tokenizer.word_index\n",
        "print(word_index)# Define input sentences\n",
        "sentences = [\n",
        "    'i love my dog',\n",
        "    'I, love my cat',\n",
        "    'You love my dog!'\n",
        "]\n",
        "\n",
        "# Initialize the Tokenizer class\n",
        "tokenizer = Tokenizer(num_words = 1)\n",
        "\n",
        "# Generate indices for each word in the corpus\n",
        "tokenizer.fit_on_texts(sentences)\n",
        "\n",
        "# Get the indices and print it\n",
        "word_index = tokenizer.word_index\n",
        "print(word_index)"
      ],
      "metadata": {
        "colab": {
          "base_uri": "https://localhost:8080/"
        },
        "id": "mjXcbmUm8bxD",
        "outputId": "f67027f6-8204-4191-e290-3945aea57140"
      },
      "execution_count": null,
      "outputs": [
        {
          "output_type": "stream",
          "name": "stdout",
          "text": [
            "{'love': 1, 'my': 2, 'i': 3, 'dog': 4, 'cat': 5, 'you': 6}\n",
            "{'love': 1, 'my': 2, 'i': 3, 'dog': 4, 'cat': 5, 'you': 6}\n"
          ]
        }
      ]
    },
    {
      "cell_type": "markdown",
      "source": [
        "##Generating Sequences and Padding\n",
        "Here, we will look at converting our input sentences into a sequence of tokens. We need to prepare text data with uniform size before feeding it to our model. \n",
        "\n",
        "Text to Sequences\n",
        "We saw how to generate a word_index dictionary to generate tokens for each word in our corpus. We can use the result to convert each of the input sentences into a sequence of tokens. That is done using the texts_to_sequences() method as shown below."
      ],
      "metadata": {
        "id": "d8FXPty-8bFA"
      }
    },
    {
      "cell_type": "code",
      "source": [
        "from tensorflow.keras.preprocessing.text import Tokenizer\n",
        "from tensorflow.keras.preprocessing.sequence import pad_sequences\n",
        "\n",
        "# Define your input texts\n",
        "sentences = [\n",
        "    'I love my dog',\n",
        "    'I love my cat',\n",
        "    'You love my dog!',\n",
        "    'Do you think my dog is amazing?'\n",
        "]\n",
        "\n",
        "# Initialize the Tokenizer class\n",
        "tokenizer = Tokenizer(num_words = 100, oov_token=\"<OOV>\")\n",
        "\n",
        "# Tokenize the input sentences\n",
        "tokenizer.fit_on_texts(sentences)\n",
        "\n",
        "# Get the word index dictionary\n",
        "word_index = tokenizer.word_index\n",
        "\n",
        "# Generate list of token sequences\n",
        "sequences = tokenizer.texts_to_sequences(sentences)\n",
        "\n",
        "# Print the result\n",
        "print(\"\\nWord Index = \" , word_index)\n",
        "print(\"\\nSequences = \" , sequences)"
      ],
      "metadata": {
        "colab": {
          "base_uri": "https://localhost:8080/"
        },
        "id": "dNzUylz_-SD0",
        "outputId": "c2e46fa0-82c3-4d2f-adba-18084d4b05c2"
      },
      "execution_count": null,
      "outputs": [
        {
          "output_type": "stream",
          "name": "stdout",
          "text": [
            "\n",
            "Word Index =  {'<OOV>': 1, 'my': 2, 'love': 3, 'dog': 4, 'i': 5, 'you': 6, 'cat': 7, 'do': 8, 'think': 9, 'is': 10, 'amazing': 11}\n",
            "\n",
            "Sequences =  [[5, 3, 2, 4], [5, 3, 2, 7], [6, 3, 2, 4], [8, 6, 9, 2, 4, 10, 11]]\n"
          ]
        }
      ]
    },
    {
      "cell_type": "markdown",
      "source": [
        "###Padding\n",
        "\n",
        "We will usually need to pad the sequences into a uniform length because that is what our model expects. We can use the pad_sequences for that. By default, it will pad according to the length of the longest sequence. We can override this with the maxlen argument to define a specific length. \n"
      ],
      "metadata": {
        "id": "HFn8GVgh-mCQ"
      }
    },
    {
      "cell_type": "code",
      "source": [
        "\n",
        "# Pad the sequences to a uniform length\n",
        "padded = pad_sequences(sequences, maxlen=5)\n",
        "\n",
        "# Print the result\n",
        "print(\"\\nPadded Sequences:\")\n",
        "print(padded)"
      ],
      "metadata": {
        "colab": {
          "base_uri": "https://localhost:8080/"
        },
        "id": "Rwg3fErD-jGv",
        "outputId": "cd8f4b16-f807-44e2-da57-7532e6d4e8a8"
      },
      "execution_count": null,
      "outputs": [
        {
          "output_type": "stream",
          "name": "stdout",
          "text": [
            "\n",
            "Padded Sequences:\n",
            "[[ 0  5  3  2  4]\n",
            " [ 0  5  3  2  7]\n",
            " [ 0  6  3  2  4]\n",
            " [ 9  2  4 10 11]]\n"
          ]
        }
      ]
    },
    {
      "cell_type": "markdown",
      "source": [
        "###Out-of-vocabulary tokens\n",
        "\n",
        "Notice that we defined an oov_token when the Tokenizer was initialized earlier. This will be used when we have input words that are not found in the word_index dictionary. For example, we may decide to collect more text after our initial training and decide to not re-generate the word_index.  Notice that the token 1 is inserted for words that are not found in the dictionary."
      ],
      "metadata": {
        "id": "FgsK2_Ut-9As"
      }
    },
    {
      "cell_type": "code",
      "source": [
        "# Try with words that the tokenizer wasn't fit to\n",
        "test_data = [\n",
        "    'i really love my dog',\n",
        "    'my dog loves my manatee'\n",
        "]\n",
        "\n",
        "# Generate the sequences\n",
        "test_seq = tokenizer.texts_to_sequences(test_data)\n",
        "\n",
        "# Print the word index dictionary\n",
        "print(\"\\nWord Index = \" , word_index)\n",
        "\n",
        "# Print the sequences with OOV\n",
        "print(\"\\nTest Sequence = \", test_seq)\n",
        "\n",
        "# Print the padded result\n",
        "padded = pad_sequences(test_seq, maxlen=10)\n",
        "print(\"\\nPadded Test Sequence: \")\n",
        "print(padded)"
      ],
      "metadata": {
        "colab": {
          "base_uri": "https://localhost:8080/"
        },
        "id": "Gl7oxG88Aaxl",
        "outputId": "a14deb0c-eb29-480f-93aa-0375026313c5"
      },
      "execution_count": null,
      "outputs": [
        {
          "output_type": "stream",
          "name": "stdout",
          "text": [
            "\n",
            "Word Index =  {'<OOV>': 1, 'my': 2, 'love': 3, 'dog': 4, 'i': 5, 'you': 6, 'cat': 7, 'do': 8, 'think': 9, 'is': 10, 'amazing': 11}\n",
            "\n",
            "Test Sequence =  [[5, 1, 3, 2, 4], [2, 4, 1, 2, 1]]\n",
            "\n",
            "Padded Test Sequence: \n",
            "[[0 0 0 0 0 5 1 3 2 4]\n",
            " [0 0 0 0 0 2 4 1 2 1]]\n"
          ]
        }
      ]
    },
    {
      "cell_type": "markdown",
      "source": [
        "##Explore the BBC News archive\n",
        "\n",
        "Here, we will be working with a variation of the BBC News Classification Dataset, which contains 2225 examples of news articles with their respective categories (labels)"
      ],
      "metadata": {
        "id": "AyjifbtIC3gB"
      }
    },
    {
      "cell_type": "code",
      "source": [
        "import csv\n",
        "from tensorflow.keras.preprocessing.text import Tokenizer\n",
        "from tensorflow.keras.preprocessing.sequence import pad_sequences"
      ],
      "metadata": {
        "id": "ehs42WwdC_eU"
      },
      "execution_count": null,
      "outputs": []
    },
    {
      "cell_type": "code",
      "source": [
        "with open(\"./BBC News Train.csv\", 'r') as csvfile:\n",
        "    print(f\"First line (header) looks like this:\\n\\n{csvfile.readline()}\")\n",
        "    print(f\"Each data point looks like this:\\n\\n{csvfile.readline()}\")     "
      ],
      "metadata": {
        "colab": {
          "base_uri": "https://localhost:8080/"
        },
        "id": "gEganTHnDGyP",
        "outputId": "03a43aa1-4739-4aec-964f-8fcc8a66dd58"
      },
      "execution_count": null,
      "outputs": [
        {
          "output_type": "stream",
          "name": "stdout",
          "text": [
            "First line (header) looks like this:\n",
            "\n",
            "ArticleId,Text,Category\n",
            "\n",
            "Each data point looks like this:\n",
            "\n",
            "1833,worldcom ex-boss launches defence lawyers defending former worldcom chief bernie ebbers against a battery of fraud charges have called a company whistleblower as their first witness.  cynthia cooper  worldcom s ex-head of internal accounting  alerted directors to irregular accounting practices at the us telecoms giant in 2002. her warnings led to the collapse of the firm following the discovery of an $11bn (£5.7bn) accounting fraud. mr ebbers has pleaded not guilty to charges of fraud and conspiracy.  prosecution lawyers have argued that mr ebbers orchestrated a series of accounting tricks at worldcom  ordering employees to hide expenses and inflate revenues to meet wall street earnings estimates. but ms cooper  who now runs her own consulting business  told a jury in new york on wednesday that external auditors arthur andersen had approved worldcom s accounting in early 2001 and 2002. she said andersen had given a  green light  to the procedures and practices used by worldcom. mr ebber s lawyers have said he was unaware of the fraud  arguing that auditors did not alert him to any problems.  ms cooper also said that during shareholder meetings mr ebbers often passed over technical questions to the company s finance chief  giving only  brief  answers himself. the prosecution s star witness  former worldcom financial chief scott sullivan  has said that mr ebbers ordered accounting adjustments at the firm  telling him to  hit our books . however  ms cooper said mr sullivan had not mentioned  anything uncomfortable  about worldcom s accounting during a 2001 audit committee meeting. mr ebbers could face a jail sentence of 85 years if convicted of all the charges he is facing. worldcom emerged from bankruptcy protection in 2004  and is now known as mci. last week  mci agreed to a buyout by verizon communications in a deal valued at $6.75bn.,business\n",
            "\n"
          ]
        }
      ]
    },
    {
      "cell_type": "code",
      "source": [
        "NUM_WORDS = 1000\n",
        "EMBEDDING_DIM = 16\n",
        "MAXLEN = 120\n",
        "PADDING = 'post'\n",
        "OOV_TOKEN = \"<OOV>\"\n",
        "TRAINING_SPLIT = .8"
      ],
      "metadata": {
        "id": "R8PHPj6hCYkO"
      },
      "execution_count": null,
      "outputs": []
    },
    {
      "cell_type": "markdown",
      "source": [
        "###Removing Stopwords\n",
        "\n",
        "One important step when working with text data is to remove the stopwords from it. These are the most common words in the language and they rarely provide useful information for the classification process.\n"
      ],
      "metadata": {
        "id": "bBsMntp8Gfo-"
      }
    },
    {
      "cell_type": "code",
      "source": [
        "def remove_stopwords(sentence):\n",
        "    \"\"\"\n",
        "    Removes a list of stopwords\n",
        "    \n",
        "    Args:\n",
        "        sentence (string): sentence to remove the stopwords from\n",
        "    \n",
        "    Returns:\n",
        "        sentence (string): lowercase sentence without the stopwords\n",
        "    \"\"\"\n",
        "    # List of stopwords\n",
        "    stopwords = [\"a\", \"about\", \"above\", \"after\", \"again\", \"against\", \"all\", \"am\", \"an\", \"and\", \"any\", \"are\", \"as\", \"at\", \"be\", \"because\", \"been\", \"before\", \"being\", \"below\", \"between\", \"both\", \"but\", \"by\", \"could\", \"did\", \"do\", \"does\", \"doing\", \"down\", \"during\", \"each\", \"few\", \"for\", \"from\", \"further\", \"had\", \"has\", \"have\", \"having\", \"he\", \"he'd\", \"he'll\", \"he's\", \"her\", \"here\", \"here's\", \"hers\", \"herself\", \"him\", \"himself\", \"his\", \"how\", \"how's\", \"i\", \"i'd\", \"i'll\", \"i'm\", \"i've\", \"if\", \"in\", \"into\", \"is\", \"it\", \"it's\", \"its\", \"itself\", \"let's\", \"me\", \"more\", \"most\", \"my\", \"myself\", \"nor\", \"of\", \"on\", \"once\", \"only\", \"or\", \"other\", \"ought\", \"our\", \"ours\", \"ourselves\", \"out\", \"over\", \"own\", \"same\", \"she\", \"she'd\", \"she'll\", \"she's\", \"should\", \"so\", \"some\", \"such\", \"than\", \"that\", \"that's\", \"the\", \"their\", \"theirs\", \"them\", \"themselves\", \"then\", \"there\", \"there's\", \"these\", \"they\", \"they'd\", \"they'll\", \"they're\", \"they've\", \"this\", \"those\", \"through\", \"to\", \"too\", \"under\", \"until\", \"up\", \"very\", \"was\", \"we\", \"we'd\", \"we'll\", \"we're\", \"we've\", \"were\", \"what\", \"what's\", \"when\", \"when's\", \"where\", \"where's\", \"which\", \"while\", \"who\", \"who's\", \"whom\", \"why\", \"why's\", \"with\", \"would\", \"you\", \"you'd\", \"you'll\", \"you're\", \"you've\", \"your\", \"yours\", \"yourself\", \"yourselves\" ]\n",
        "    \n",
        "    # Sentence converted to lowercase-only\n",
        "    sentence = sentence.lower()\n",
        "    newSentence=[]\n",
        "\n",
        "    for word in sentence.split(' '):\n",
        "      if word in stopwords:\n",
        "        continue\n",
        "      else:\n",
        "        newSentence.append(word)\n",
        "\n",
        "    return ' '.join(newSentence)"
      ],
      "metadata": {
        "id": "dAQRrJKvHB6x"
      },
      "execution_count": null,
      "outputs": []
    },
    {
      "cell_type": "code",
      "source": [
        "remove_stopwords(\"I am about to go to the store and get any snack\")"
      ],
      "metadata": {
        "colab": {
          "base_uri": "https://localhost:8080/",
          "height": 36
        },
        "id": "OZM4mVtIHsmv",
        "outputId": "232d528f-04d0-445c-d805-1586b8349df5"
      },
      "execution_count": null,
      "outputs": [
        {
          "output_type": "execute_result",
          "data": {
            "text/plain": [
              "'go store get snack'"
            ],
            "application/vnd.google.colaboratory.intrinsic+json": {
              "type": "string"
            }
          },
          "metadata": {},
          "execution_count": 7
        }
      ]
    },
    {
      "cell_type": "markdown",
      "source": [
        "###Reading the raw data\n",
        "Now you need to read the data from the csv file. To do so, we have parse_data_from_file function.\n",
        "\n",
        "A couple of things to note:\n",
        "\n",
        "* We should omit the first line as it contains the headers and not data points.\n",
        "* There is no need to save the data points as numpy arrays, regular lists is fine.\n",
        "* To read from csv files use csv.reader by passing the appropriate arguments.\n",
        "* csv.reader returns an iterable that returns each row in every iteration. So the label can be accessed via row[0] and the text via row[1].\n",
        "* Use the remove_stopwords function in each sentence."
      ],
      "metadata": {
        "id": "zTcAHlIXICtq"
      }
    },
    {
      "cell_type": "code",
      "source": [
        "def parse_data_from_file(filename):\n",
        "    \"\"\"\n",
        "    Extracts sentences and labels from a CSV file\n",
        "    \n",
        "    Args:\n",
        "        filename (string): path to the CSV file\n",
        "    \n",
        "    Returns:\n",
        "        sentences, labels (list of string, list of string): tuple containing lists of sentences and labels\n",
        "    \"\"\"\n",
        "    sentences = []\n",
        "    labels = []\n",
        "    with open(filename, 'r') as csvfile:\n",
        "        \n",
        "        reader = csv.reader(csvfile, delimiter=',')\n",
        "        tag = 0\n",
        "        for line in reader:\n",
        "          if tag:\n",
        "            sentences.append(remove_stopwords(line[1]))\n",
        "            labels.append(line[2])\n",
        "          else:\n",
        "            tag=1\n",
        "\n",
        "    return sentences, labels"
      ],
      "metadata": {
        "id": "k1khj-gQIZHc"
      },
      "execution_count": null,
      "outputs": []
    },
    {
      "cell_type": "code",
      "source": [
        "sentences, labels = parse_data_from_file(\"./BBC News Train.csv\")\n",
        "\n",
        "print(\"ORIGINAL DATASET:\\n\")\n",
        "print(f\"There are {len(sentences)} sentences in the dataset.\\n\")\n",
        "print(f\"First sentence has {len(sentences[0].split())} words (after removing stopwords).\\n\")\n",
        "print(f\"There are {len(labels)} labels in the dataset.\\n\")\n",
        "print(f\"The first 5 labels are {labels[:5]}\\n\\n\")\n"
      ],
      "metadata": {
        "colab": {
          "base_uri": "https://localhost:8080/"
        },
        "id": "ZYrbdYNlJWhy",
        "outputId": "91483f01-3173-40dd-ab27-e5b140887167"
      },
      "execution_count": null,
      "outputs": [
        {
          "output_type": "stream",
          "name": "stdout",
          "text": [
            "ORIGINAL DATASET:\n",
            "\n",
            "There are 1490 sentences in the dataset.\n",
            "\n",
            "First sentence has 203 words (after removing stopwords).\n",
            "\n",
            "There are 1490 labels in the dataset.\n",
            "\n",
            "The first 5 labels are ['business', 'business', 'business', 'tech', 'business']\n",
            "\n",
            "\n"
          ]
        }
      ]
    },
    {
      "cell_type": "markdown",
      "source": [
        "###Training - Validation Split\n",
        "Now we will code the train_val_split() function. Given the training split size, this function will split the full lists of sentences and labels into training and validation sentences and labels.\n",
        "\n"
      ],
      "metadata": {
        "id": "B5pYAu_TCrSp"
      }
    },
    {
      "cell_type": "code",
      "source": [
        "def train_val_split(sentences, labels, training_split):\n",
        "    \"\"\"\n",
        "    Splits the dataset into training and validation sets\n",
        "    \n",
        "    Args:\n",
        "        sentences (list of string): lower-cased sentences without stopwords\n",
        "        labels (list of string): list of labels\n",
        "        training split (float): proportion of the dataset to convert to include in the train set\n",
        "    \n",
        "    Returns:\n",
        "        train_sentences, validation_sentences, train_labels, validation_labels - lists containing the data splits\n",
        "    \"\"\"\n",
        "    \n",
        "    \n",
        "    # Compute the number of sentences that will be used for training (should be an integer)\n",
        "    train_size = int(len(sentences)*training_split)\n",
        "\n",
        "    # Split the sentences and labels into train/validation splits\n",
        "    train_sentences = sentences[:train_size]\n",
        "    train_labels = labels[:train_size]\n",
        "\n",
        "    validation_sentences = sentences[train_size:]\n",
        "    validation_labels = labels[train_size:]\n",
        "    \n",
        "    return train_sentences, validation_sentences, train_labels, validation_labels\n"
      ],
      "metadata": {
        "id": "ZvkmyqAeCvqf"
      },
      "execution_count": null,
      "outputs": []
    },
    {
      "cell_type": "code",
      "source": [
        "train_sentences, val_sentences, train_labels, val_labels = train_val_split(sentences, labels, TRAINING_SPLIT)\n",
        "\n",
        "print(f\"There are {len(train_sentences)} sentences for training.\\n\")\n",
        "print(f\"There are {len(train_labels)} labels for training.\\n\")\n",
        "print(f\"There are {len(val_sentences)} sentences for validation.\\n\")\n",
        "print(f\"There are {len(val_labels)} labels for validation.\")"
      ],
      "metadata": {
        "colab": {
          "base_uri": "https://localhost:8080/"
        },
        "id": "ZROCrT__DbNm",
        "outputId": "33f74f1a-754d-4337-b785-abcf095f5169"
      },
      "execution_count": null,
      "outputs": [
        {
          "output_type": "stream",
          "name": "stdout",
          "text": [
            "There are 1192 sentences for training.\n",
            "\n",
            "There are 1192 labels for training.\n",
            "\n",
            "There are 298 sentences for validation.\n",
            "\n",
            "There are 298 labels for validation.\n"
          ]
        }
      ]
    },
    {
      "cell_type": "markdown",
      "source": [
        "###Using the Tokenizer\n",
        "\n",
        "Now it is time to tokenize the sentences of the dataset.\n",
        "\n",
        "fit_tokenizer:\n",
        "\n",
        "This function should receive the list of sentences as input and return a Tokenizer that has been fitted to those sentences."
      ],
      "metadata": {
        "id": "qWoqL5ZgMIYn"
      }
    },
    {
      "cell_type": "code",
      "source": [
        "def fit_tokenizer(sentences, NUM_WORDS, OOV_TOKEN):\n",
        "    \"\"\"\n",
        "    Instantiates the Tokenizer class\n",
        "    \n",
        "    Args:\n",
        "        sentences (list): lower-cased sentences without stopwords\n",
        "    \n",
        "    Returns:\n",
        "        tokenizer (object): an instance of the Tokenizer class containing the word-index dictionary\n",
        "    \"\"\"\n",
        "    \n",
        "    # Instantiate the Tokenizer class by passing in the oov_token argument\n",
        "    tokenizer = Tokenizer(num_words=NUM_WORDS, oov_token=OOV_TOKEN)\n",
        "    # Fit on the sentences\n",
        "    tokenizer.fit_on_texts(sentences)\n",
        "    \n",
        "    return tokenizer"
      ],
      "metadata": {
        "id": "Zj380RYeMh2n"
      },
      "execution_count": null,
      "outputs": []
    },
    {
      "cell_type": "code",
      "source": [
        "tokenizer = fit_tokenizer(train_sentences, NUM_WORDS, OOV_TOKEN)\n",
        "word_index = tokenizer.word_index\n",
        "\n",
        "print(f\"Vocabulary contains {len(word_index)} words\\n\")"
      ],
      "metadata": {
        "colab": {
          "base_uri": "https://localhost:8080/"
        },
        "id": "CQEJbKJEMTjx",
        "outputId": "c50bfef6-7a10-4431-803e-ae9f63e46390"
      },
      "execution_count": null,
      "outputs": [
        {
          "output_type": "stream",
          "name": "stdout",
          "text": [
            "Vocabulary contains 22647 words\n",
            "\n"
          ]
        }
      ]
    },
    {
      "cell_type": "code",
      "source": [
        "def get_padded_sequences(sentences, tokenizer, PADDING, MAXLEN):\n",
        "    \"\"\"\n",
        "    Generates an array of token sequences and pads them to the same length\n",
        "    \n",
        "    Args:\n",
        "        tokenizer (object): Tokenizer instance containing the word-index dictionary\n",
        "        sentences (list of string): list of sentences to tokenize and pad\n",
        "    \n",
        "    Returns:\n",
        "        padded_sequences (array of int): tokenized sentences padded to the same length\n",
        "    \"\"\"\n",
        "    \n",
        "    # Convert sentences to sequences\n",
        "    sequences = tokenizer.texts_to_sequences(sentences)\n",
        "    \n",
        "    # Pad the sequences using the post padding strategy\n",
        "    padded_sequences = pad_sequences(sequences, padding=PADDING, maxlen=MAXLEN)\n",
        "    \n",
        "    return padded_sequences"
      ],
      "metadata": {
        "id": "gOXvzCvBMYfj"
      },
      "execution_count": null,
      "outputs": []
    },
    {
      "cell_type": "code",
      "source": [
        "train_padded_seq = get_padded_sequences(train_sentences, tokenizer, PADDING, MAXLEN)\n",
        "val_padded_seq = get_padded_sequences(val_sentences, tokenizer, PADDING, MAXLEN)\n",
        "\n",
        "print(f\"Padded training sequences have shape: {train_padded_seq.shape}\\n\")\n",
        "print(f\"Padded validation sequences have shape: {val_padded_seq.shape}\")"
      ],
      "metadata": {
        "colab": {
          "base_uri": "https://localhost:8080/"
        },
        "id": "AQ7nXqG9Ndts",
        "outputId": "8cf4b324-d0cc-40b7-b0b8-6f9b29b51b06"
      },
      "execution_count": null,
      "outputs": [
        {
          "output_type": "stream",
          "name": "stdout",
          "text": [
            "Padded training sequences have shape: (1192, 120)\n",
            "\n",
            "Padded validation sequences have shape: (298, 120)\n"
          ]
        }
      ]
    },
    {
      "cell_type": "markdown",
      "source": [
        "**NOTE**: Using Keras' Tokenizer yields values that start at 1 rather than at 0. This will present a problem when training since Keras usually expects the labels to start at 0. To work around this issue we could use an extra neuron in the last layer of our model. However this approach is rather hacky and not very clear. Instead we will substract 1 from every value of the labels that the function returns. "
      ],
      "metadata": {
        "id": "okpmhCCvGU-g"
      }
    },
    {
      "cell_type": "code",
      "source": [
        "import numpy as np"
      ],
      "metadata": {
        "id": "vjREWn09GuM-"
      },
      "execution_count": null,
      "outputs": []
    },
    {
      "cell_type": "code",
      "source": [
        "def tokenize_labels(labels, split_labels):\n",
        "    \"\"\"\n",
        "    Tokenizes the labels\n",
        "    \n",
        "    Args:\n",
        "        labels (list of string): labels to tokenize\n",
        "    \n",
        "    Returns:\n",
        "        label_sequences, label_word_index (list of string, dictionary): tokenized labels and the word-index\n",
        "    \"\"\"\n",
        "    # Instantiate the Tokenizer class\n",
        "    label_tokenizer = Tokenizer()\n",
        "    \n",
        "    # Fit the tokenizer to the labels\n",
        "    label_tokenizer.fit_on_texts(labels)\n",
        "    \n",
        "    # Save the word index\n",
        "    label_word_index = label_tokenizer.word_index\n",
        "    \n",
        "    # Save the sequences\n",
        "    label_sequences = label_tokenizer.texts_to_sequences(split_labels)\n",
        "\n",
        "    # Convert sequences to a numpy array.\n",
        "    label_seq_np = []\n",
        "    num_labels = len(np.unique(labels))\n",
        "    for label in label_sequences:\n",
        "      temp = [0 for _ in range(num_labels)]\n",
        "      temp[label[0] - 1] = 1\n",
        "      label_seq_np.append(temp)\n",
        "    label_seq_np = np.array(label_seq_np)\n",
        "    \n",
        "    return label_seq_np"
      ],
      "metadata": {
        "id": "31LKJfn2OTUi"
      },
      "execution_count": null,
      "outputs": []
    },
    {
      "cell_type": "code",
      "source": [
        "train_label_seq = tokenize_labels(labels, train_labels)\n",
        "val_label_seq = tokenize_labels(labels, val_labels)\n",
        "\n",
        "print(f\"First 5 labels of the training set should look like this:\\n{train_label_seq[:5]}\\n\")\n",
        "print(f\"First 5 labels of the validation set should look like this:\\n{val_label_seq[:5]}\\n\")\n",
        "print(f\"Tokenized labels of the training set have shape: {train_label_seq.shape}\\n\")\n",
        "print(f\"Tokenized labels of the validation set have shape: {val_label_seq.shape}\\n\")"
      ],
      "metadata": {
        "colab": {
          "base_uri": "https://localhost:8080/"
        },
        "id": "gpeIBth9PmAV",
        "outputId": "6505563c-3e0e-4c85-c68c-4ca34ac57a73"
      },
      "execution_count": null,
      "outputs": [
        {
          "output_type": "stream",
          "name": "stdout",
          "text": [
            "First 5 labels of the training set should look like this:\n",
            "[[0 1 0 0 0]\n",
            " [0 1 0 0 0]\n",
            " [0 1 0 0 0]\n",
            " [0 0 0 0 1]\n",
            " [0 1 0 0 0]]\n",
            "\n",
            "First 5 labels of the validation set should look like this:\n",
            "[[0 0 0 1 0]\n",
            " [0 0 0 1 0]\n",
            " [0 0 1 0 0]\n",
            " [0 1 0 0 0]\n",
            " [0 0 0 0 1]]\n",
            "\n",
            "Tokenized labels of the training set have shape: (1192, 5)\n",
            "\n",
            "Tokenized labels of the validation set have shape: (298, 5)\n",
            "\n"
          ]
        }
      ]
    },
    {
      "cell_type": "markdown",
      "source": [
        "###Selecting the model for text classification\n",
        "\n",
        "Now that the data is ready to be fed a Neural Network it is time for us to define the model that will classify each text as being part of a certain category.\n",
        "\n",
        "Complete the create_model below.\n",
        "\n",
        "A couple of things to keep in mind:\n",
        "\n",
        "* Notice that this function has three parameters, all of which are meant to be passed to an Embedding layer, which is what we will probably use as a first layer for your model.\n",
        "\n",
        "* The last layer should be a Dense layer with 5 units (since there are 5 categories) with a softmax activation.\n",
        "\n",
        "* You should also compile your model using an appropiate loss function and optimizer.\n",
        "\n",
        "* You can use any architecture you want but keep in mind that this problem doesn't need many layers to be solved successfully. You don't need any layers beside Embedding, GlobalAveragePooling1D and Dense layers but feel free to try out different architectures.\n",
        "\n",
        "* To pass this graded function your model should reach at least a 95% training accuracy and a 90% validation accuracy in under 30 epochs."
      ],
      "metadata": {
        "id": "6I6P3e2eG8JL"
      }
    },
    {
      "cell_type": "code",
      "source": [
        "import tensorflow as tf"
      ],
      "metadata": {
        "id": "rMK4HBJKHldY"
      },
      "execution_count": null,
      "outputs": []
    },
    {
      "cell_type": "code",
      "source": [
        "def create_model(num_words, embedding_dim, maxlen):\n",
        "    \"\"\"\n",
        "    Creates a text classifier model\n",
        "    \n",
        "    Args:\n",
        "        num_words (int): size of the vocabulary for the Embedding layer input\n",
        "        embedding_dim (int): dimensionality of the Embedding layer output\n",
        "        maxlen (int): length of the input sequences\n",
        "    \n",
        "    Returns:\n",
        "        model (tf.keras Model): the text classifier model\n",
        "    \"\"\"\n",
        "    \n",
        "    tf.random.set_seed(23)\n",
        "    \n",
        "    model = tf.keras.Sequential([ \n",
        "        tf.keras.layers.Embedding(num_words, embedding_dim, input_length=maxlen),\n",
        "        tf.keras.layers.GlobalAveragePooling1D(),\n",
        "        tf.keras.layers.Dense(32, activation='relu'),\n",
        "        tf.keras.layers.Dense(5, activation='softmax')\n",
        "    ])\n",
        "    \n",
        "    model.compile(loss='categorical_crossentropy',\n",
        "                  optimizer='adam',\n",
        "                  metrics=['accuracy']) \n",
        "\n",
        "    return model"
      ],
      "metadata": {
        "id": "Lp3Hv7U-HM2y"
      },
      "execution_count": null,
      "outputs": []
    },
    {
      "cell_type": "code",
      "source": [
        "model = create_model(NUM_WORDS, EMBEDDING_DIM, MAXLEN)\n",
        "\n",
        "history = model.fit(train_padded_seq, train_label_seq, epochs=30, validation_data=(val_padded_seq, val_label_seq))"
      ],
      "metadata": {
        "colab": {
          "base_uri": "https://localhost:8080/"
        },
        "id": "DpfkbS_uIcdZ",
        "outputId": "40cd0c83-2e3a-4fd1-a2ad-e6a1ace033e4"
      },
      "execution_count": null,
      "outputs": [
        {
          "output_type": "stream",
          "name": "stdout",
          "text": [
            "Epoch 1/30\n",
            "38/38 [==============================] - 1s 8ms/step - loss: 1.6034 - accuracy: 0.2366 - val_loss: 1.5999 - val_accuracy: 0.2114\n",
            "Epoch 2/30\n",
            "38/38 [==============================] - 0s 3ms/step - loss: 1.5824 - accuracy: 0.4044 - val_loss: 1.5774 - val_accuracy: 0.3557\n",
            "Epoch 3/30\n",
            "38/38 [==============================] - 0s 3ms/step - loss: 1.5400 - accuracy: 0.4237 - val_loss: 1.5282 - val_accuracy: 0.3926\n",
            "Epoch 4/30\n",
            "38/38 [==============================] - 0s 3ms/step - loss: 1.4572 - accuracy: 0.4497 - val_loss: 1.4376 - val_accuracy: 0.4262\n",
            "Epoch 5/30\n",
            "38/38 [==============================] - 0s 3ms/step - loss: 1.3310 - accuracy: 0.4664 - val_loss: 1.3152 - val_accuracy: 0.4497\n",
            "Epoch 6/30\n",
            "38/38 [==============================] - 0s 3ms/step - loss: 1.1853 - accuracy: 0.5101 - val_loss: 1.1835 - val_accuracy: 0.5268\n",
            "Epoch 7/30\n",
            "38/38 [==============================] - 0s 3ms/step - loss: 1.0455 - accuracy: 0.6342 - val_loss: 1.0604 - val_accuracy: 0.6208\n",
            "Epoch 8/30\n",
            "38/38 [==============================] - 0s 3ms/step - loss: 0.9188 - accuracy: 0.7181 - val_loss: 0.9443 - val_accuracy: 0.7047\n",
            "Epoch 9/30\n",
            "38/38 [==============================] - 0s 3ms/step - loss: 0.7994 - accuracy: 0.7953 - val_loss: 0.8281 - val_accuracy: 0.8087\n",
            "Epoch 10/30\n",
            "38/38 [==============================] - 0s 3ms/step - loss: 0.6865 - accuracy: 0.8674 - val_loss: 0.7201 - val_accuracy: 0.8859\n",
            "Epoch 11/30\n",
            "38/38 [==============================] - 0s 3ms/step - loss: 0.5809 - accuracy: 0.9220 - val_loss: 0.6269 - val_accuracy: 0.9060\n",
            "Epoch 12/30\n",
            "38/38 [==============================] - 0s 4ms/step - loss: 0.4933 - accuracy: 0.9404 - val_loss: 0.5427 - val_accuracy: 0.9195\n",
            "Epoch 13/30\n",
            "38/38 [==============================] - 0s 3ms/step - loss: 0.4188 - accuracy: 0.9522 - val_loss: 0.4745 - val_accuracy: 0.9463\n",
            "Epoch 14/30\n",
            "38/38 [==============================] - 0s 4ms/step - loss: 0.3554 - accuracy: 0.9631 - val_loss: 0.4166 - val_accuracy: 0.9463\n",
            "Epoch 15/30\n",
            "38/38 [==============================] - 0s 2ms/step - loss: 0.3029 - accuracy: 0.9673 - val_loss: 0.3699 - val_accuracy: 0.9530\n",
            "Epoch 16/30\n",
            "38/38 [==============================] - 0s 2ms/step - loss: 0.2588 - accuracy: 0.9740 - val_loss: 0.3299 - val_accuracy: 0.9497\n",
            "Epoch 17/30\n",
            "38/38 [==============================] - 0s 3ms/step - loss: 0.2222 - accuracy: 0.9723 - val_loss: 0.2999 - val_accuracy: 0.9530\n",
            "Epoch 18/30\n",
            "38/38 [==============================] - 0s 3ms/step - loss: 0.1919 - accuracy: 0.9782 - val_loss: 0.2735 - val_accuracy: 0.9530\n",
            "Epoch 19/30\n",
            "38/38 [==============================] - 0s 3ms/step - loss: 0.1676 - accuracy: 0.9815 - val_loss: 0.2548 - val_accuracy: 0.9530\n",
            "Epoch 20/30\n",
            "38/38 [==============================] - 0s 3ms/step - loss: 0.1474 - accuracy: 0.9841 - val_loss: 0.2388 - val_accuracy: 0.9530\n",
            "Epoch 21/30\n",
            "38/38 [==============================] - 0s 3ms/step - loss: 0.1303 - accuracy: 0.9874 - val_loss: 0.2302 - val_accuracy: 0.9463\n",
            "Epoch 22/30\n",
            "38/38 [==============================] - 0s 3ms/step - loss: 0.1153 - accuracy: 0.9874 - val_loss: 0.2155 - val_accuracy: 0.9530\n",
            "Epoch 23/30\n",
            "38/38 [==============================] - 0s 4ms/step - loss: 0.1032 - accuracy: 0.9908 - val_loss: 0.2070 - val_accuracy: 0.9530\n",
            "Epoch 24/30\n",
            "38/38 [==============================] - 0s 3ms/step - loss: 0.0928 - accuracy: 0.9916 - val_loss: 0.1989 - val_accuracy: 0.9564\n",
            "Epoch 25/30\n",
            "38/38 [==============================] - 0s 3ms/step - loss: 0.0834 - accuracy: 0.9916 - val_loss: 0.1944 - val_accuracy: 0.9530\n",
            "Epoch 26/30\n",
            "38/38 [==============================] - 0s 2ms/step - loss: 0.0753 - accuracy: 0.9941 - val_loss: 0.1872 - val_accuracy: 0.9564\n",
            "Epoch 27/30\n",
            "38/38 [==============================] - 0s 3ms/step - loss: 0.0679 - accuracy: 0.9933 - val_loss: 0.1853 - val_accuracy: 0.9530\n",
            "Epoch 28/30\n",
            "38/38 [==============================] - 0s 3ms/step - loss: 0.0623 - accuracy: 0.9950 - val_loss: 0.1791 - val_accuracy: 0.9564\n",
            "Epoch 29/30\n",
            "38/38 [==============================] - 0s 4ms/step - loss: 0.0561 - accuracy: 0.9958 - val_loss: 0.1766 - val_accuracy: 0.9631\n",
            "Epoch 30/30\n",
            "38/38 [==============================] - 0s 3ms/step - loss: 0.0510 - accuracy: 0.9966 - val_loss: 0.1721 - val_accuracy: 0.9631\n"
          ]
        }
      ]
    },
    {
      "cell_type": "code",
      "source": [
        "import matplotlib.pyplot as plt"
      ],
      "metadata": {
        "id": "BA7bw_qdCp4S"
      },
      "execution_count": null,
      "outputs": []
    },
    {
      "cell_type": "code",
      "source": [
        "def plot_graphs(history, metric):\n",
        "    plt.plot(history.history[metric])\n",
        "    plt.plot(history.history[f'val_{metric}'])\n",
        "    plt.xlabel(\"Epochs\")\n",
        "    plt.ylabel(metric)\n",
        "    plt.legend([metric, f'val_{metric}'])\n",
        "    plt.show()\n",
        "    \n",
        "plot_graphs(history, \"accuracy\")\n",
        "plot_graphs(history, \"loss\")"
      ],
      "metadata": {
        "colab": {
          "base_uri": "https://localhost:8080/",
          "height": 541
        },
        "id": "d8jQzOGjBeUh",
        "outputId": "90903863-344c-4b20-d158-49f72ed4fdd3"
      },
      "execution_count": null,
      "outputs": [
        {
          "output_type": "display_data",
          "data": {
            "text/plain": [
              "<Figure size 432x288 with 1 Axes>"
            ],
            "image/png": "[encoded data removed]"
          },
          "metadata": {
            "needs_background": "light"
          }
        },
        {
          "output_type": "display_data",
          "data": {
            "text/plain": [
              "<Figure size 432x288 with 1 Axes>"
            ],
            "image/png": "[encoded data removed]"
          },
          "metadata": {
            "needs_background": "light"
          }
        }
      ]
    },
    {
      "cell_type": "markdown",
      "source": [
        "###Visualizing 3D Vectors\n",
        "We can visualize the vectors associated with each word in the training set in a 3D space.\n"
      ],
      "metadata": {
        "id": "jNuVhKDXDK0Z"
      }
    },
    {
      "cell_type": "code",
      "source": [
        "# Reverse word index\n",
        "reverse_word_index = dict([(value, key) for (key, value) in word_index.items()])\n",
        "\n",
        "# Save the embedding layer\n",
        "e = model.layers[0]\n",
        "\n",
        "# Save the weights of the embedding layer\n",
        "weights = e.get_weights()[0]\n",
        "print(f\"Weights of embedding layer have shape: {weights.shape}\")"
      ],
      "metadata": {
        "colab": {
          "base_uri": "https://localhost:8080/"
        },
        "id": "WH5B-i96DTed",
        "outputId": "889c5867-bbcb-4cc6-d0f8-8b9f9e883156"
      },
      "execution_count": null,
      "outputs": [
        {
          "output_type": "stream",
          "name": "stdout",
          "text": [
            "Weights of embedding layer have shape: (1000, 16)\n"
          ]
        }
      ]
    },
    {
      "cell_type": "markdown",
      "source": [
        "Generate the vecs.tsv and meta.tsv files that we can upload to the embedding projector by visiting Tensorflow's Embedding Projector.\n",
        "\n"
      ],
      "metadata": {
        "id": "7LNu0zSnDmok"
      }
    },
    {
      "cell_type": "code",
      "source": [
        "import io"
      ],
      "metadata": {
        "id": "dnF_UqvXDr3h"
      },
      "execution_count": null,
      "outputs": []
    },
    {
      "cell_type": "code",
      "source": [
        "# Generate files for embedding visualization\n",
        "out_v = io.open('vecs.tsv', 'w', encoding='utf-8')\n",
        "out_m = io.open('meta.tsv', 'w', encoding='utf-8')\n",
        "for word_num in range(1, NUM_WORDS):\n",
        "    word = reverse_word_index[word_num]\n",
        "    embeddings = weights[word_num]\n",
        "    out_m.write(word + \"\\n\")\n",
        "    out_v.write('\\t'.join([str(x) for x in embeddings]) + \"\\n\")\n",
        "out_v.close()\n",
        "out_m.close()"
      ],
      "metadata": {
        "id": "_1Arw6zwDdVy"
      },
      "execution_count": null,
      "outputs": []
    },
    {
      "cell_type": "code",
      "source": [
        "# Import files utilities in Colab\n",
        "try:\n",
        "  from google.colab import files\n",
        "except ImportError:\n",
        "  pass\n",
        "\n",
        "# Download the files\n",
        "else:\n",
        "  files.download('vecs.tsv')\n",
        "  files.download('meta.tsv')"
      ],
      "metadata": {
        "colab": {
          "base_uri": "https://localhost:8080/",
          "height": 17
        },
        "id": "-Dy6ZZPEEWUM",
        "outputId": "b98a8abc-8889-49ae-9672-f4f93e6ff28d"
      },
      "execution_count": null,
      "outputs": [
        {
          "output_type": "display_data",
          "data": {
            "text/plain": [
              "<IPython.core.display.Javascript object>"
            ],
            "application/javascript": [
              "\n",
              "    async function download(id, filename, size) {\n",
              "      if (!google.colab.kernel.accessAllowed) {\n",
              "        return;\n",
              "      }\n",
              "      const div = document.createElement('div');\n",
              "      const label = document.createElement('label');\n",
              "      label.textContent = `Downloading \"${filename}\": `;\n",
              "      div.appendChild(label);\n",
              "      const progress = document.createElement('progress');\n",
              "      progress.max = size;\n",
              "      div.appendChild(progress);\n",
              "      document.body.appendChild(div);\n",
              "\n",
              "      const buffers = [];\n",
              "      let downloaded = 0;\n",
              "\n",
              "      const channel = await google.colab.kernel.comms.open(id);\n",
              "      // Send a message to notify the kernel that we're ready.\n",
              "      channel.send({})\n",
              "\n",
              "      for await (const message of channel.messages) {\n",
              "        // Send a message to notify the kernel that we're ready.\n",
              "        channel.send({})\n",
              "        if (message.buffers) {\n",
              "          for (const buffer of message.buffers) {\n",
              "            buffers.push(buffer);\n",
              "            downloaded += buffer.byteLength;\n",
              "            progress.value = downloaded;\n",
              "          }\n",
              "        }\n",
              "      }\n",
              "      const blob = new Blob(buffers, {type: 'application/binary'});\n",
              "      const a = document.createElement('a');\n",
              "      a.href = window.URL.createObjectURL(blob);\n",
              "      a.download = filename;\n",
              "      div.appendChild(a);\n",
              "      a.click();\n",
              "      div.remove();\n",
              "    }\n",
              "  "
            ]
          },
          "metadata": {}
        },
        {
          "output_type": "display_data",
          "data": {
            "text/plain": [
              "<IPython.core.display.Javascript object>"
            ],
            "application/javascript": [
              "download(\"download_8640c5b3-e57b-4da2-a219-d6bcbeff566a\", \"vecs.tsv\", 182716)"
            ]
          },
          "metadata": {}
        },
        {
          "output_type": "display_data",
          "data": {
            "text/plain": [
              "<IPython.core.display.Javascript object>"
            ],
            "application/javascript": [
              "\n",
              "    async function download(id, filename, size) {\n",
              "      if (!google.colab.kernel.accessAllowed) {\n",
              "        return;\n",
              "      }\n",
              "      const div = document.createElement('div');\n",
              "      const label = document.createElement('label');\n",
              "      label.textContent = `Downloading \"${filename}\": `;\n",
              "      div.appendChild(label);\n",
              "      const progress = document.createElement('progress');\n",
              "      progress.max = size;\n",
              "      div.appendChild(progress);\n",
              "      document.body.appendChild(div);\n",
              "\n",
              "      const buffers = [];\n",
              "      let downloaded = 0;\n",
              "\n",
              "      const channel = await google.colab.kernel.comms.open(id);\n",
              "      // Send a message to notify the kernel that we're ready.\n",
              "      channel.send({})\n",
              "\n",
              "      for await (const message of channel.messages) {\n",
              "        // Send a message to notify the kernel that we're ready.\n",
              "        channel.send({})\n",
              "        if (message.buffers) {\n",
              "          for (const buffer of message.buffers) {\n",
              "            buffers.push(buffer);\n",
              "            downloaded += buffer.byteLength;\n",
              "            progress.value = downloaded;\n",
              "          }\n",
              "        }\n",
              "      }\n",
              "      const blob = new Blob(buffers, {type: 'application/binary'});\n",
              "      const a = document.createElement('a');\n",
              "      a.href = window.URL.createObjectURL(blob);\n",
              "      a.download = filename;\n",
              "      div.appendChild(a);\n",
              "      a.click();\n",
              "      div.remove();\n",
              "    }\n",
              "  "
            ]
          },
          "metadata": {}
        },
        {
          "output_type": "display_data",
          "data": {
            "text/plain": [
              "<IPython.core.display.Javascript object>"
            ],
            "application/javascript": [
              "download(\"download_bc77a860-5927-48b1-a5c5-781fc5ae9163\", \"meta.tsv\", 6558)"
            ]
          },
          "metadata": {}
        }
      ]
    },
    {
      "cell_type": "code",
      "source": [
        "np.unique(labels)"
      ],
      "metadata": {
        "id": "sApRooDxFeu3",
        "outputId": "5630f1ff-f8b8-4c33-f4bf-07a1e50cd4a9",
        "colab": {
          "base_uri": "https://localhost:8080/"
        }
      },
      "execution_count": null,
      "outputs": [
        {
          "output_type": "execute_result",
          "data": {
            "text/plain": [
              "array(['business', 'entertainment', 'politics', 'sport', 'tech'],\n",
              "      dtype='<U13')"
            ]
          },
          "metadata": {},
          "execution_count": 44
        }
      ]
    },
    {
      "cell_type": "markdown",
      "source": [
        "We can visualize the final weights of the embeddings using the Tensorflow Embedding Projector at https://projector.tensorflow.org/."
      ],
      "metadata": {
        "id": "JNslTd5LlfrH"
      }
    }
  ]
}